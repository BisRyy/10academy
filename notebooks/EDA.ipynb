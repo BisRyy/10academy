{
 "cells": [
  {
   "cell_type": "code",
   "execution_count": 7,
   "metadata": {},
   "outputs": [
    {
     "name": "stdout",
     "output_type": "stream",
     "text": [
      "10 Academy week 0 challenge starter code\n"
     ]
    }
   ],
   "source": [
    "print(\"10 Academy week 0 challenge starter code\")"
   ]
  },
  {
   "cell_type": "code",
   "execution_count": 8,
   "metadata": {},
   "outputs": [
    {
     "name": "stdout",
     "output_type": "stream",
     "text": [
      "                 GHI            DNI            DHI           ModA  \\\n",
      "count  525600.000000  525600.000000  525600.000000  525600.000000   \n",
      "mean      240.559452     167.187516     115.358961     236.589496   \n",
      "std       331.131327     261.710501     158.691074     326.894859   \n",
      "min       -12.900000      -7.800000     -12.600000       0.000000   \n",
      "25%        -2.000000      -0.500000      -2.100000       0.000000   \n",
      "50%         1.800000      -0.100000       1.600000       4.500000   \n",
      "75%       483.400000     314.200000     216.300000     463.700000   \n",
      "max      1413.000000     952.300000     759.200000    1342.300000   \n",
      "\n",
      "                ModB           Tamb             RH             WS  \\\n",
      "count  525600.000000  525600.000000  525600.000000  525600.000000   \n",
      "mean      228.883576      28.179683      54.487969       2.121113   \n",
      "std       316.536515       5.924297      28.073069       1.603466   \n",
      "min         0.000000      11.000000       2.100000       0.000000   \n",
      "25%         0.000000      24.200000      28.800000       1.000000   \n",
      "50%         4.300000      28.000000      55.100000       1.900000   \n",
      "75%       447.900000      32.300000      80.100000       3.100000   \n",
      "max      1342.300000      43.800000     100.000000      19.500000   \n",
      "\n",
      "              WSgust        WSstdev             WD        WDstdev  \\\n",
      "count  525600.000000  525600.000000  525600.000000  525600.000000   \n",
      "mean        2.809195       0.473390     153.435172       8.582407   \n",
      "std         2.029120       0.273395     102.332842       6.385864   \n",
      "min         0.000000       0.000000       0.000000       0.000000   \n",
      "25%         1.300000       0.400000      59.000000       3.700000   \n",
      "50%         2.600000       0.500000     181.000000       8.600000   \n",
      "75%         4.100000       0.600000     235.100000      12.300000   \n",
      "max        26.600000       4.200000     360.000000      99.400000   \n",
      "\n",
      "                  BP       Cleaning  Precipitation          TModA  \\\n",
      "count  525600.000000  525600.000000  525600.000000  525600.000000   \n",
      "mean      994.197199       0.000923       0.001905      35.246026   \n",
      "std         2.474993       0.030363       0.037115      14.807258   \n",
      "min       985.000000       0.000000       0.000000       9.000000   \n",
      "25%       993.000000       0.000000       0.000000      24.200000   \n",
      "50%       994.000000       0.000000       0.000000      30.000000   \n",
      "75%       996.000000       0.000000       0.000000      46.900000   \n",
      "max      1003.000000       1.000000       2.500000      81.000000   \n",
      "\n",
      "               TModB  Comments  \n",
      "count  525600.000000       0.0  \n",
      "mean       32.471736       NaN  \n",
      "std        12.348743       NaN  \n",
      "min         8.100000       NaN  \n",
      "25%        23.600000       NaN  \n",
      "50%        28.900000       NaN  \n",
      "75%        41.500000       NaN  \n",
      "max        72.500000       NaN  \n"
     ]
    }
   ],
   "source": [
    "import pandas as pd\n",
    "df = pd.read_csv('../data/benin-malanville.csv')\n",
    "summary = df.describe()\n",
    "print(summary)"
   ]
  },
  {
   "cell_type": "code",
   "execution_count": 9,
   "metadata": {},
   "outputs": [
    {
     "name": "stderr",
     "output_type": "stream",
     "text": [
      "Matplotlib is building the font cache; this may take a moment.\n"
     ]
    }
   ],
   "source": [
    "import pandas as pd\n",
    "import seaborn as sns\n",
    "import matplotlib.pyplot as plt\n",
    "import numpy as np"
   ]
  },
  {
   "cell_type": "markdown",
   "metadata": {},
   "source": [
    "## Data Cleaning"
   ]
  },
  {
   "cell_type": "code",
   "execution_count": 10,
   "metadata": {},
   "outputs": [],
   "source": [
    "\n",
    "def data_clean(data):\n",
    "    # Replace specific invalid numeric values and infinite values with NaN\n",
    "    data = data.replace([-1, np.inf, -np.inf], np.nan)\n",
    "\n",
    "    # Convert invalid or corrupt timestamps to NaN\n",
    "    data['Timestamp'] = pd.to_datetime(data['Timestamp'], errors='coerce')\n",
    "\n",
    "    # Fill missing values in numeric columns with the respective column's mean\n",
    "    numeric_columns = data.select_dtypes(include=[np.number]).columns\n",
    "    data[numeric_columns] = data[numeric_columns].apply(lambda x: x.fillna(x.mean()))\n",
    "\n",
    "    # Eliminate any duplicate rows from the dataset\n",
    "    data.drop_duplicates(inplace=True)\n",
    "\n",
    "    return data\n"
   ]
  },
  {
   "cell_type": "markdown",
   "metadata": {},
   "source": [
    "## Data Analysis"
   ]
  },
  {
   "cell_type": "code",
   "execution_count": 11,
   "metadata": {},
   "outputs": [],
   "source": [
    "def process_and_analyze(data, location_name, variables=None):\n",
    "    \"\"\"\n",
    "    Processes and performs analysis on solar radiation data for a given location.\n",
    "\n",
    "    Args:\n",
    "        data (pandas.DataFrame): The dataset containing solar radiation measurements.\n",
    "        location_name (str): The name of the location to be analyzed.\n",
    "        variables (list, optional): A list of specific variable names for analysis.\n",
    "            If not provided, all numeric columns are analyzed. Defaults to None.\n",
    "\n",
    "    Returns:\n",
    "        None\n",
    "    \"\"\"\n",
    "\n",
    "    # Clean the dataset and handle missing values\n",
    "    data = data_clean(data)\n",
    "\n",
    "    if data.empty:\n",
    "        print(f\"No data available after cleaning for {location_name}.\")\n",
    "        return\n",
    "\n",
    "    # Set the 'Timestamp' column as the index for time-series operations\n",
    "    data.set_index('Timestamp', inplace=True)\n",
    "\n",
    "    # Generate summary statistics for numerical columns\n",
    "    summary_stats = data.describe(include=[np.number])\n",
    "    print(f\"\\nSummary statistics for {location_name}:\")\n",
    "    print(summary_stats)\n",
    "\n",
    "    # Analyze time-series patterns and trends\n",
    "    if not variables:\n",
    "        variables = ['GHI', 'DNI', 'DHI', 'Tamb']\n",
    "\n",
    "    plt.figure(figsize=(12, 6))\n",
    "    sns.lineplot(data=data[variables])\n",
    "    plt.title(f\"Time-series trends for {location_name}\")\n",
    "    plt.xlabel(\"Time\")\n",
    "    plt.ylabel(\"Value\")\n",
    "    plt.show()\n",
    "\n",
    "    # Perform correlation analysis between variables\n",
    "    correlation_matrix = data.corr()\n",
    "    sns.heatmap(correlation_matrix, annot=True, cmap='coolwarm', fmt=\".2f\")\n",
    "    plt.title(f\"Correlation Matrix for {location_name}\")\n",
    "    plt.show()\n",
    "\n",
    "    # Create scatter plots to visualize relationships and detect anomalies\n",
    "    plt.figure(figsize=(12, 6))\n",
    "    sns.scatterplot(data=data, x='Tamb', y='GHI', hue='Precipitation', palette='viridis', s=20)\n",
    "    plt.title(f\"Scatter Plot of Tamb vs. GHI with Precipitation for {location_name}\")\n",
    "    plt.xlabel(\"Tamb (°C)\")\n",
    "    plt.ylabel(\"GHI (W/m²)\")\n",
    "    plt.show()\n",
    "\n",
    "    # Use box plots to identify outliers and distribution spread\n",
    "    plt.figure(figsize=(12, 6))\n",
    "    sns.boxplot(data=data[variables])\n",
    "    plt.title(f\"Box Plot for {location_name}\")\n",
    "    plt.show()\n",
    "\n",
    "    # Plot a histogram to examine the distribution of GHI\n",
    "    plt.figure(figsize=(12, 6))\n",
    "    sns.histplot(data['GHI'], kde=True)\n",
    "    plt.title(f\"Histogram of GHI for {location_name}\")\n",
    "    plt.xlabel(\"GHI (W/m²)\")\n",
    "    plt.ylabel(\"Count\")\n",
    "    plt.show()\n",
    "\n",
    "    # Report on any missing values after the cleaning and imputation process\n",
    "    missing_values = data.isnull().sum()\n",
    "    print(f\"\\nMissing values after cleaning and imputing for {location_name}:\")\n",
    "    print(missing_values)\n"
   ]
  }
 ],
 "metadata": {
  "kernelspec": {
   "display_name": ".venv",
   "language": "python",
   "name": "python3"
  },
  "language_info": {
   "name": "python",
   "version": "3.11.6"
  }
 },
 "nbformat": 4,
 "nbformat_minor": 2
}
